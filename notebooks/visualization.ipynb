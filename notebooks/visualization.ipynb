{
 "cells": [
  {
   "cell_type": "code",
   "execution_count": 57,
   "id": "d080f176-bd0a-4efa-a52c-d49f2cf698b5",
   "metadata": {},
   "outputs": [],
   "source": [
    "import pandas as pd\n",
    "import numpy as np\n",
    "import panel as pn\n",
    "from sqlalchemy import create_engine\n",
    "pn.extension('tabulator')\n",
    "db_engine = create_engine(\"sqlite:///demo.db\")\n",
    "\n",
    "import hvplot.pandas\n"
   ]
  },
  {
   "cell_type": "code",
   "execution_count": 58,
   "id": "a2aa6371-9e93-456f-94e7-e9bb7e7df5e9",
   "metadata": {},
   "outputs": [],
   "source": [
    "df = pd.read_sql(\"\"\"SELECT * FROM incident_parts\"\"\", db_engine)"
   ]
  },
  {
   "cell_type": "code",
   "execution_count": 59,
   "id": "0e8395ea-663d-4f1b-84ee-4b2d112af252",
   "metadata": {},
   "outputs": [],
   "source": [
    "## Preprocessing\n",
    "df[['report_datetime','incident_datetime']] = df[['report_datetime','incident_datetime']].apply(pd.to_datetime)\n",
    "df['incident_report_delta_days'] = (df[\"report_datetime\"] - df[\"incident_datetime\"]).dt.days\n",
    "df['incident_year'] = df['incident_year'].astype('int')\n",
    "df['is_minor'] = df['is_minor'].astype('bool')"
   ]
  },
  {
   "cell_type": "code",
   "execution_count": null,
   "id": "58a134b9-f179-45ef-8b77-7358a3388868",
   "metadata": {},
   "outputs": [],
   "source": [
    "idf = df.interactive()"
   ]
  },
  {
   "cell_type": "markdown",
   "id": "e62bee14-cbc0-4959-b8f5-5c68b9348d85",
   "metadata": {},
   "source": [
    "## Measurements of Ops Quality\n",
    "What is the distribution of incident-time to report-time deltas?\n",
    "\n",
    "Are we getting better over time?\n",
    "\n",
    "Distribution by day of week, time of day? By major vs minor? case type?"
   ]
  },
  {
   "cell_type": "code",
   "execution_count": 61,
   "id": "6cd9043c-f4a4-4194-b851-afdbd47eb0a3",
   "metadata": {},
   "outputs": [
    {
     "data": {
      "application/vnd.holoviews_exec.v0+json": "",
      "text/html": [
       "<div id='1651'>\n",
       "  <div class=\"bk-root\" id=\"0551a628-d822-463e-9b8c-e1b24e06f457\" data-root-id=\"1651\"></div>\n",
       "</div>\n",
       "<script type=\"application/javascript\">(function(root) {\n",
       "  function embed_document(root) {\n",
       "    var docs_json = {\"27735089-0207-4bef-be37-5fb089121c33\":{\"defs\":[{\"extends\":null,\"module\":null,\"name\":\"ReactiveHTML1\",\"overrides\":[],\"properties\":[]},{\"extends\":null,\"module\":null,\"name\":\"FlexBox1\",\"overrides\":[],\"properties\":[{\"default\":\"flex-start\",\"kind\":null,\"name\":\"align_content\"},{\"default\":\"flex-start\",\"kind\":null,\"name\":\"align_items\"},{\"default\":\"row\",\"kind\":null,\"name\":\"flex_direction\"},{\"default\":\"wrap\",\"kind\":null,\"name\":\"flex_wrap\"},{\"default\":\"flex-start\",\"kind\":null,\"name\":\"justify_content\"}]},{\"extends\":null,\"module\":null,\"name\":\"GridStack1\",\"overrides\":[],\"properties\":[{\"default\":\"warn\",\"kind\":null,\"name\":\"mode\"},{\"default\":null,\"kind\":null,\"name\":\"ncols\"},{\"default\":null,\"kind\":null,\"name\":\"nrows\"},{\"default\":true,\"kind\":null,\"name\":\"allow_resize\"},{\"default\":true,\"kind\":null,\"name\":\"allow_drag\"},{\"default\":[],\"kind\":null,\"name\":\"state\"}]},{\"extends\":null,\"module\":null,\"name\":\"click1\",\"overrides\":[],\"properties\":[{\"default\":\"\",\"kind\":null,\"name\":\"terminal_output\"},{\"default\":\"\",\"kind\":null,\"name\":\"debug_name\"},{\"default\":0,\"kind\":null,\"name\":\"clears\"}]},{\"extends\":null,\"module\":null,\"name\":\"NotificationAreaBase1\",\"overrides\":[],\"properties\":[{\"default\":\"bottom-right\",\"kind\":null,\"name\":\"position\"},{\"default\":0,\"kind\":null,\"name\":\"_clear\"}]},{\"extends\":null,\"module\":null,\"name\":\"NotificationArea1\",\"overrides\":[],\"properties\":[{\"default\":[],\"kind\":null,\"name\":\"notifications\"},{\"default\":\"bottom-right\",\"kind\":null,\"name\":\"position\"},{\"default\":0,\"kind\":null,\"name\":\"_clear\"},{\"default\":[{\"background\":\"#ffc107\",\"icon\":{\"className\":\"fas fa-exclamation-triangle\",\"color\":\"white\",\"tagName\":\"i\"},\"type\":\"warning\"},{\"background\":\"#007bff\",\"icon\":{\"className\":\"fas fa-info-circle\",\"color\":\"white\",\"tagName\":\"i\"},\"type\":\"info\"}],\"kind\":null,\"name\":\"types\"}]},{\"extends\":null,\"module\":null,\"name\":\"Notification\",\"overrides\":[],\"properties\":[{\"default\":null,\"kind\":null,\"name\":\"background\"},{\"default\":3000,\"kind\":null,\"name\":\"duration\"},{\"default\":null,\"kind\":null,\"name\":\"icon\"},{\"default\":\"\",\"kind\":null,\"name\":\"message\"},{\"default\":null,\"kind\":null,\"name\":\"notification_type\"},{\"default\":false,\"kind\":null,\"name\":\"_destroyed\"}]},{\"extends\":null,\"module\":null,\"name\":\"TemplateActions1\",\"overrides\":[],\"properties\":[{\"default\":0,\"kind\":null,\"name\":\"open_modal\"},{\"default\":0,\"kind\":null,\"name\":\"close_modal\"}]},{\"extends\":null,\"module\":null,\"name\":\"MaterialTemplateActions1\",\"overrides\":[],\"properties\":[{\"default\":0,\"kind\":null,\"name\":\"open_modal\"},{\"default\":0,\"kind\":null,\"name\":\"close_modal\"}]}],\"roots\":{\"references\":[{\"attributes\":{\"coordinates\":null,\"data_source\":{\"id\":\"1686\"},\"glyph\":{\"id\":\"1689\"},\"group\":null,\"hover_glyph\":null,\"muted_glyph\":{\"id\":\"1691\"},\"nonselection_glyph\":{\"id\":\"1690\"},\"selection_glyph\":{\"id\":\"1694\"},\"view\":{\"id\":\"1693\"}},\"id\":\"1692\",\"type\":\"GlyphRenderer\"},{\"attributes\":{\"axis\":{\"id\":\"1665\"},\"coordinates\":null,\"grid_line_color\":null,\"group\":null,\"ticker\":null},\"id\":\"1668\",\"type\":\"Grid\"},{\"attributes\":{},\"id\":\"1661\",\"type\":\"LinearScale\"},{\"attributes\":{\"source\":{\"id\":\"1686\"}},\"id\":\"1693\",\"type\":\"CDSView\"},{\"attributes\":{},\"id\":\"1673\",\"type\":\"SaveTool\"},{\"attributes\":{},\"id\":\"1708\",\"type\":\"UnionRenderers\"},{\"attributes\":{\"tools\":[{\"id\":\"1655\"},{\"id\":\"1673\"},{\"id\":\"1674\"},{\"id\":\"1675\"},{\"id\":\"1676\"},{\"id\":\"1677\"}]},\"id\":\"1679\",\"type\":\"Toolbar\"},{\"attributes\":{},\"id\":\"1677\",\"type\":\"ResetTool\"},{\"attributes\":{},\"id\":\"1696\",\"type\":\"BasicTickFormatter\"},{\"attributes\":{\"below\":[{\"id\":\"1665\"}],\"center\":[{\"id\":\"1668\"},{\"id\":\"1672\"}],\"height\":300,\"left\":[{\"id\":\"1669\"}],\"margin\":[5,5,5,5],\"min_border_bottom\":10,\"min_border_left\":10,\"min_border_right\":10,\"min_border_top\":10,\"renderers\":[{\"id\":\"1692\"}],\"sizing_mode\":\"fixed\",\"title\":{\"id\":\"1657\"},\"toolbar\":{\"id\":\"1679\"},\"width\":250,\"x_range\":{\"id\":\"1653\"},\"x_scale\":{\"id\":\"1661\"},\"y_range\":{\"id\":\"1654\"},\"y_scale\":{\"id\":\"1663\"}},\"id\":\"1656\",\"subtype\":\"Figure\",\"type\":\"Plot\"},{\"attributes\":{\"margin\":[5,5,5,5],\"name\":\"HSpacer05117\",\"sizing_mode\":\"stretch_width\"},\"id\":\"1711\",\"type\":\"Spacer\"},{\"attributes\":{\"overlay\":{\"id\":\"1678\"}},\"id\":\"1676\",\"type\":\"BoxZoomTool\"},{\"attributes\":{},\"id\":\"1697\",\"type\":\"AllLabels\"},{\"attributes\":{},\"id\":\"1675\",\"type\":\"WheelZoomTool\"},{\"attributes\":{\"axis_label\":\"incident_report_delta_days\",\"coordinates\":null,\"formatter\":{\"id\":\"1696\"},\"group\":null,\"major_label_policy\":{\"id\":\"1697\"},\"ticker\":{\"id\":\"1666\"}},\"id\":\"1665\",\"type\":\"LinearAxis\"},{\"attributes\":{\"callback\":null,\"renderers\":[{\"id\":\"1692\"}],\"tags\":[\"hv_created\"],\"tooltips\":[[\"incident_report_delta_days\",\"@{incident_report_delta_days}\"],[\"Count\",\"@{incident_report_delta_days_count}\"]]},\"id\":\"1655\",\"type\":\"HoverTool\"},{\"attributes\":{},\"id\":\"1670\",\"type\":\"BasicTicker\"},{\"attributes\":{},\"id\":\"1663\",\"type\":\"LinearScale\"},{\"attributes\":{\"axis_label\":\"\",\"coordinates\":null,\"formatter\":{\"id\":\"1699\"},\"group\":null,\"major_label_policy\":{\"id\":\"1700\"},\"ticker\":{\"id\":\"1670\"}},\"id\":\"1669\",\"type\":\"LinearAxis\"},{\"attributes\":{\"coordinates\":null,\"group\":null,\"text_color\":\"black\",\"text_font_size\":\"12pt\"},\"id\":\"1657\",\"type\":\"Title\"},{\"attributes\":{\"bottom\":{\"value\":0},\"fill_color\":{\"value\":\"#30a2da\"},\"hatch_color\":{\"value\":\"#30a2da\"},\"left\":{\"field\":\"left\"},\"right\":{\"field\":\"right\"},\"top\":{\"field\":\"top\"}},\"id\":\"1689\",\"type\":\"Quad\"},{\"attributes\":{},\"id\":\"1699\",\"type\":\"BasicTickFormatter\"},{\"attributes\":{\"margin\":[5,5,5,5],\"name\":\"HSpacer05116\",\"sizing_mode\":\"stretch_width\"},\"id\":\"1652\",\"type\":\"Spacer\"},{\"attributes\":{\"end\":320083.0833333333,\"reset_end\":320083.0833333333,\"reset_start\":0.0,\"tags\":[[[\"incident_report_delta_days_count\",\"Count\",null]]]},\"id\":\"1654\",\"type\":\"Range1d\"},{\"attributes\":{\"axis\":{\"id\":\"1669\"},\"coordinates\":null,\"dimension\":1,\"grid_line_color\":null,\"group\":null,\"ticker\":null},\"id\":\"1672\",\"type\":\"Grid\"},{\"attributes\":{\"bottom\":{\"value\":0},\"fill_alpha\":{\"value\":0.2},\"fill_color\":{\"value\":\"#30a2da\"},\"hatch_alpha\":{\"value\":0.2},\"hatch_color\":{\"value\":\"#30a2da\"},\"left\":{\"field\":\"left\"},\"line_alpha\":{\"value\":0.2},\"right\":{\"field\":\"right\"},\"top\":{\"field\":\"top\"}},\"id\":\"1691\",\"type\":\"Quad\"},{\"attributes\":{},\"id\":\"1700\",\"type\":\"AllLabels\"},{\"attributes\":{},\"id\":\"1687\",\"type\":\"Selection\"},{\"attributes\":{\"bottom_units\":\"screen\",\"coordinates\":null,\"fill_alpha\":0.5,\"fill_color\":\"lightgrey\",\"group\":null,\"left_units\":\"screen\",\"level\":\"overlay\",\"line_alpha\":1.0,\"line_color\":\"black\",\"line_dash\":[4,4],\"line_width\":2,\"right_units\":\"screen\",\"syncable\":false,\"top_units\":\"screen\"},\"id\":\"1678\",\"type\":\"BoxAnnotation\"},{\"attributes\":{},\"id\":\"1666\",\"type\":\"BasicTicker\"},{\"attributes\":{\"children\":[{\"id\":\"1652\"},{\"id\":\"1656\"},{\"id\":\"1711\"}],\"margin\":[0,0,0,0],\"name\":\"Row05112\",\"tags\":[\"embedded\"]},\"id\":\"1651\",\"type\":\"Row\"},{\"attributes\":{\"bottom\":{\"value\":0},\"fill_alpha\":{\"value\":1.0},\"fill_color\":{\"value\":\"#30a2da\"},\"hatch_alpha\":{\"value\":1.0},\"hatch_color\":{\"value\":\"#30a2da\"},\"hatch_scale\":{\"value\":12.0},\"hatch_weight\":{\"value\":1.0},\"left\":{\"field\":\"left\"},\"line_alpha\":{\"value\":1.0},\"line_cap\":{\"value\":\"butt\"},\"line_color\":{\"value\":\"black\"},\"line_dash\":{\"value\":[]},\"line_dash_offset\":{\"value\":0},\"line_join\":{\"value\":\"bevel\"},\"line_width\":{\"value\":1},\"right\":{\"field\":\"right\"},\"top\":{\"field\":\"top\"}},\"id\":\"1694\",\"type\":\"Quad\"},{\"attributes\":{},\"id\":\"1674\",\"type\":\"PanTool\"},{\"attributes\":{\"data\":{\"incident_report_delta_days\":{\"__ndarray__\":\"mpmZmZnJQUBnZmZmZi5eQAAAAAAAvGlAZ2ZmZmYwckDNzMzMzIJ3QDQzMzMz1XxAzczMzMwTgUAAAAAAAL2DQDQzMzMzZoZAZmZmZmYPiUCamZmZmbiLQM7MzMzMYY5AAAAAAICFkECamZmZGdqRQDQzMzOzLpNAzczMzEyDlEBnZmZm5teVQAAAAACALJdAmpmZmRmBmEA0MzMzs9WZQA==\",\"dtype\":\"float64\",\"order\":\"little\",\"shape\":[20]},\"incident_report_delta_days_count\":[295462,2400,886,441,1411,203,148,141,167,92,78,64,39,39,29,23,9,18,44,28],\"left\":{\"__ndarray__\":\"AAAAAAAAHMCamZmZmYlTQJqZmZmZaWRAZ2ZmZmYOb0CamZmZmdl0QAAAAAAALHpAZ2ZmZmZ+f0BnZmZmZmiCQJqZmZmZEYVAzczMzMy6h0AAAAAAAGSKQDQzMzMzDY1AZ2ZmZma2j0DNzMzMzC+RQGdmZmZmhJJAAAAAAADZk0CamZmZmS2VQDQzMzMzgpZAzczMzMzWl0BnZmZmZiuZQA==\",\"dtype\":\"float64\",\"order\":\"little\",\"shape\":[20]},\"right\":{\"__ndarray__\":\"mpmZmZmJU0CamZmZmWlkQGdmZmZmDm9AmpmZmZnZdEAAAAAAACx6QGdmZmZmfn9AZ2ZmZmZogkCamZmZmRGFQM3MzMzMuodAAAAAAABkikA0MzMzMw2NQGdmZmZmto9AzczMzMwvkUBnZmZmZoSSQAAAAAAA2ZNAmpmZmZktlUA0MzMzM4KWQM3MzMzM1pdAZ2ZmZmYrmUAAAAAAAICaQA==\",\"dtype\":\"float64\",\"order\":\"little\",\"shape\":[20]},\"top\":[295462,2400,886,441,1411,203,148,141,167,92,78,64,39,39,29,23,9,18,44,28]},\"selected\":{\"id\":\"1687\"},\"selection_policy\":{\"id\":\"1708\"}},\"id\":\"1686\",\"type\":\"ColumnDataSource\"},{\"attributes\":{\"end\":1866.3,\"reset_end\":1866.3,\"reset_start\":-177.3,\"start\":-177.3,\"tags\":[[[\"incident_report_delta_days\",\"incident_report_delta_days\",null]]]},\"id\":\"1653\",\"type\":\"Range1d\"},{\"attributes\":{\"bottom\":{\"value\":0},\"fill_alpha\":{\"value\":0.1},\"fill_color\":{\"value\":\"#30a2da\"},\"hatch_alpha\":{\"value\":0.1},\"hatch_color\":{\"value\":\"#30a2da\"},\"left\":{\"field\":\"left\"},\"line_alpha\":{\"value\":0.1},\"right\":{\"field\":\"right\"},\"top\":{\"field\":\"top\"}},\"id\":\"1690\",\"type\":\"Quad\"}],\"root_ids\":[\"1651\"]},\"title\":\"Bokeh Application\",\"version\":\"2.4.3\"}};\n",
       "    var render_items = [{\"docid\":\"27735089-0207-4bef-be37-5fb089121c33\",\"root_ids\":[\"1651\"],\"roots\":{\"1651\":\"0551a628-d822-463e-9b8c-e1b24e06f457\"}}];\n",
       "    root.Bokeh.embed.embed_items_notebook(docs_json, render_items);\n",
       "  }\n",
       "  if (root.Bokeh !== undefined && root.Bokeh.Panel !== undefined && ( root['Tabulator'] !== undefined) && ( root['Tabulator'] !== undefined) && ( root['Tabulator'] !== undefined) && ( root['Tabulator'] !== undefined) && ( root['Tabulator'] !== undefined)) {\n",
       "    embed_document(root);\n",
       "  } else {\n",
       "    var attempts = 0;\n",
       "    var timer = setInterval(function(root) {\n",
       "      if (root.Bokeh !== undefined && root.Bokeh.Panel !== undefined && (root['Tabulator'] !== undefined) && (root['Tabulator'] !== undefined) && (root['Tabulator'] !== undefined) && (root['Tabulator'] !== undefined) && (root['Tabulator'] !== undefined)) {\n",
       "        clearInterval(timer);\n",
       "        embed_document(root);\n",
       "      } else if (document.readyState == \"complete\") {\n",
       "        attempts++;\n",
       "        if (attempts > 200) {\n",
       "          clearInterval(timer);\n",
       "          console.log(\"Bokeh: ERROR: Unable to run BokehJS code because BokehJS library is missing\");\n",
       "        }\n",
       "      }\n",
       "    }, 25, root)\n",
       "  }\n",
       "})(window);</script>"
      ],
      "text/plain": [
       ":Histogram   [incident_report_delta_days]   (incident_report_delta_days_count)"
      ]
     },
     "execution_count": 61,
     "metadata": {
      "application/vnd.holoviews_exec.v0+json": {
       "id": "1651"
      }
     },
     "output_type": "execute_result"
    }
   ],
   "source": [
    "# Widget defs\n",
    "year_slider = pn.widgets.IntSlider(name='Year slider', start=int(df[\"incident_year\"].min()), end=int(df[\"incident_year\"].max()), step=1, value=2018)\n",
    "yaxis_major_minor = pn.widgets.RadioButtonGroup(\n",
    "    name='Y axis', \n",
    "    options=[\"major\", \"minor\"],\n",
    "    button_type='success'\n",
    ")\n",
    "\n",
    "# deltas_pipeline = (\n",
    "#     idf[\n",
    "#         (idf.incident_year <= year_slider)\n",
    "#     ]\n",
    "#     .groupby(['incident_year', 'is_minor'])\n",
    "#     .count()\n",
    "# )\n",
    "\n",
    "df.hvplot.hist(\"incident_report_delta_days\", width=250)"
   ]
  },
  {
   "cell_type": "code",
   "execution_count": 45,
   "id": "08d764fc-a1ea-4610-94a9-d41caa615bad",
   "metadata": {},
   "outputs": [
    {
     "data": {},
     "metadata": {},
     "output_type": "display_data"
    },
    {
     "data": {
      "application/vnd.holoviews_exec.v0+json": "",
      "text/html": [
       "<div id='1026'>\n",
       "  <div class=\"bk-root\" id=\"f33988f0-8fd5-494a-a696-b17fb7ddcce0\" data-root-id=\"1026\"></div>\n",
       "</div>\n",
       "<script type=\"application/javascript\">(function(root) {\n",
       "  function embed_document(root) {\n",
       "    var docs_json = {\"9558ec6f-39fd-46ff-8e94-6982c3fcd530\":{\"defs\":[{\"extends\":null,\"module\":null,\"name\":\"ReactiveHTML1\",\"overrides\":[],\"properties\":[]},{\"extends\":null,\"module\":null,\"name\":\"FlexBox1\",\"overrides\":[],\"properties\":[{\"default\":\"flex-start\",\"kind\":null,\"name\":\"align_content\"},{\"default\":\"flex-start\",\"kind\":null,\"name\":\"align_items\"},{\"default\":\"row\",\"kind\":null,\"name\":\"flex_direction\"},{\"default\":\"wrap\",\"kind\":null,\"name\":\"flex_wrap\"},{\"default\":\"flex-start\",\"kind\":null,\"name\":\"justify_content\"}]},{\"extends\":null,\"module\":null,\"name\":\"GridStack1\",\"overrides\":[],\"properties\":[{\"default\":\"warn\",\"kind\":null,\"name\":\"mode\"},{\"default\":null,\"kind\":null,\"name\":\"ncols\"},{\"default\":null,\"kind\":null,\"name\":\"nrows\"},{\"default\":true,\"kind\":null,\"name\":\"allow_resize\"},{\"default\":true,\"kind\":null,\"name\":\"allow_drag\"},{\"default\":[],\"kind\":null,\"name\":\"state\"}]},{\"extends\":null,\"module\":null,\"name\":\"click1\",\"overrides\":[],\"properties\":[{\"default\":\"\",\"kind\":null,\"name\":\"terminal_output\"},{\"default\":\"\",\"kind\":null,\"name\":\"debug_name\"},{\"default\":0,\"kind\":null,\"name\":\"clears\"}]},{\"extends\":null,\"module\":null,\"name\":\"NotificationAreaBase1\",\"overrides\":[],\"properties\":[{\"default\":\"bottom-right\",\"kind\":null,\"name\":\"position\"},{\"default\":0,\"kind\":null,\"name\":\"_clear\"}]},{\"extends\":null,\"module\":null,\"name\":\"NotificationArea1\",\"overrides\":[],\"properties\":[{\"default\":[],\"kind\":null,\"name\":\"notifications\"},{\"default\":\"bottom-right\",\"kind\":null,\"name\":\"position\"},{\"default\":0,\"kind\":null,\"name\":\"_clear\"},{\"default\":[{\"background\":\"#ffc107\",\"icon\":{\"className\":\"fas fa-exclamation-triangle\",\"color\":\"white\",\"tagName\":\"i\"},\"type\":\"warning\"},{\"background\":\"#007bff\",\"icon\":{\"className\":\"fas fa-info-circle\",\"color\":\"white\",\"tagName\":\"i\"},\"type\":\"info\"}],\"kind\":null,\"name\":\"types\"}]},{\"extends\":null,\"module\":null,\"name\":\"Notification\",\"overrides\":[],\"properties\":[{\"default\":null,\"kind\":null,\"name\":\"background\"},{\"default\":3000,\"kind\":null,\"name\":\"duration\"},{\"default\":null,\"kind\":null,\"name\":\"icon\"},{\"default\":\"\",\"kind\":null,\"name\":\"message\"},{\"default\":null,\"kind\":null,\"name\":\"notification_type\"},{\"default\":false,\"kind\":null,\"name\":\"_destroyed\"}]},{\"extends\":null,\"module\":null,\"name\":\"TemplateActions1\",\"overrides\":[],\"properties\":[{\"default\":0,\"kind\":null,\"name\":\"open_modal\"},{\"default\":0,\"kind\":null,\"name\":\"close_modal\"}]},{\"extends\":null,\"module\":null,\"name\":\"MaterialTemplateActions1\",\"overrides\":[],\"properties\":[{\"default\":0,\"kind\":null,\"name\":\"open_modal\"},{\"default\":0,\"kind\":null,\"name\":\"close_modal\"}]}],\"roots\":{\"references\":[{\"attributes\":{\"client_comm_id\":\"29b53984f3f740e795582800b73fee69\",\"comm_id\":\"20b8a63444154689aa4fd7e05f317511\",\"plot_id\":\"1026\"},\"id\":\"1034\",\"type\":\"panel.models.comm_manager.CommManager\"},{\"attributes\":{\"children\":[{\"id\":\"1027\"}],\"margin\":[0,0,0,0],\"name\":\"Row02598\"},\"id\":\"1026\",\"type\":\"Row\"},{\"attributes\":{\"margin\":[5,5,5,5],\"name\":\"HSpacer02595\",\"sizing_mode\":\"stretch_width\"},\"id\":\"1031\",\"type\":\"Spacer\"},{\"attributes\":{\"end\":2019,\"margin\":[5,10,5,10],\"start\":2018,\"title\":\"Year slider\",\"value\":2018},\"id\":\"1030\",\"type\":\"Slider\"},{\"attributes\":{\"children\":[{\"id\":\"1033\"}],\"margin\":[0,0,0,0],\"name\":\"Row02554\"},\"id\":\"1032\",\"type\":\"Row\"},{\"attributes\":{\"margin\":[5,5,5,5],\"name\":\"DataFrame02593\",\"text\":\"&lt;table class=&quot;dataframe panel-df&quot;&gt;\\n  &lt;thead&gt;\\n    &lt;tr style=&quot;text-align: right;&quot;&gt;\\n      &lt;th&gt;&lt;/th&gt;\\n      &lt;th&gt;index&lt;/th&gt;\\n      &lt;th&gt;incident_datetime&lt;/th&gt;\\n      &lt;th&gt;incident_date&lt;/th&gt;\\n      &lt;th&gt;incident_time&lt;/th&gt;\\n      &lt;th&gt;incident_day_of_week&lt;/th&gt;\\n      &lt;th&gt;report_datetime&lt;/th&gt;\\n      &lt;th&gt;row_id&lt;/th&gt;\\n      &lt;th&gt;incident_id&lt;/th&gt;\\n      &lt;th&gt;incident_number&lt;/th&gt;\\n      &lt;th&gt;report_type_code&lt;/th&gt;\\n      &lt;th&gt;report_type_description&lt;/th&gt;\\n      &lt;th&gt;filed_online&lt;/th&gt;\\n      &lt;th&gt;incident_code&lt;/th&gt;\\n      &lt;th&gt;incident_category&lt;/th&gt;\\n      &lt;th&gt;incident_subcategory&lt;/th&gt;\\n      &lt;th&gt;incident_description&lt;/th&gt;\\n      &lt;th&gt;resolution&lt;/th&gt;\\n      &lt;th&gt;police_district&lt;/th&gt;\\n      &lt;th&gt;cad_number&lt;/th&gt;\\n      &lt;th&gt;intersection&lt;/th&gt;\\n      &lt;th&gt;cnn&lt;/th&gt;\\n      &lt;th&gt;analysis_neighborhood&lt;/th&gt;\\n      &lt;th&gt;supervisor_district&lt;/th&gt;\\n      &lt;th&gt;latitude&lt;/th&gt;\\n      &lt;th&gt;longitude&lt;/th&gt;\\n      &lt;th&gt;incident_report_delta_days&lt;/th&gt;\\n    &lt;/tr&gt;\\n  &lt;/thead&gt;\\n  &lt;tbody&gt;\\n    &lt;tr&gt;\\n      &lt;th&gt;count&lt;/th&gt;\\n      &lt;td&gt;1.0&lt;/td&gt;\\n      &lt;td&gt;1.0&lt;/td&gt;\\n      &lt;td&gt;1.0&lt;/td&gt;\\n      &lt;td&gt;1.0&lt;/td&gt;\\n      &lt;td&gt;1.0&lt;/td&gt;\\n      &lt;td&gt;1.0&lt;/td&gt;\\n      &lt;td&gt;1.0&lt;/td&gt;\\n      &lt;td&gt;1.0&lt;/td&gt;\\n      &lt;td&gt;1.0&lt;/td&gt;\\n      &lt;td&gt;1.0&lt;/td&gt;\\n      &lt;td&gt;1.0&lt;/td&gt;\\n      &lt;td&gt;1.0&lt;/td&gt;\\n      &lt;td&gt;1.0&lt;/td&gt;\\n      &lt;td&gt;1.0&lt;/td&gt;\\n      &lt;td&gt;1.0&lt;/td&gt;\\n      &lt;td&gt;1.0&lt;/td&gt;\\n      &lt;td&gt;1.0&lt;/td&gt;\\n      &lt;td&gt;1.0&lt;/td&gt;\\n      &lt;td&gt;1.0&lt;/td&gt;\\n      &lt;td&gt;1.0&lt;/td&gt;\\n      &lt;td&gt;1.0&lt;/td&gt;\\n      &lt;td&gt;1.0&lt;/td&gt;\\n      &lt;td&gt;1.0&lt;/td&gt;\\n      &lt;td&gt;1.0&lt;/td&gt;\\n      &lt;td&gt;1.0&lt;/td&gt;\\n      &lt;td&gt;1.0&lt;/td&gt;\\n    &lt;/tr&gt;\\n    &lt;tr&gt;\\n      &lt;th&gt;mean&lt;/th&gt;\\n      &lt;td&gt;19470.0&lt;/td&gt;\\n      &lt;td&gt;129172.0&lt;/td&gt;\\n      &lt;td&gt;129172.0&lt;/td&gt;\\n      &lt;td&gt;129172.0&lt;/td&gt;\\n      &lt;td&gt;129172.0&lt;/td&gt;\\n      &lt;td&gt;129172.0&lt;/td&gt;\\n      &lt;td&gt;129172.0&lt;/td&gt;\\n      &lt;td&gt;129172.0&lt;/td&gt;\\n      &lt;td&gt;129172.0&lt;/td&gt;\\n      &lt;td&gt;129172.0&lt;/td&gt;\\n      &lt;td&gt;129172.0&lt;/td&gt;\\n      &lt;td&gt;129172.0&lt;/td&gt;\\n      &lt;td&gt;129172.0&lt;/td&gt;\\n      &lt;td&gt;129162.0&lt;/td&gt;\\n      &lt;td&gt;129162.0&lt;/td&gt;\\n      &lt;td&gt;129172.0&lt;/td&gt;\\n      &lt;td&gt;129172.0&lt;/td&gt;\\n      &lt;td&gt;129172.0&lt;/td&gt;\\n      &lt;td&gt;99784.0&lt;/td&gt;\\n      &lt;td&gt;124466.0&lt;/td&gt;\\n      &lt;td&gt;124466.0&lt;/td&gt;\\n      &lt;td&gt;124466.0&lt;/td&gt;\\n      &lt;td&gt;124466.0&lt;/td&gt;\\n      &lt;td&gt;124466.0&lt;/td&gt;\\n      &lt;td&gt;124466.0&lt;/td&gt;\\n      &lt;td&gt;129172.0&lt;/td&gt;\\n    &lt;/tr&gt;\\n    &lt;tr&gt;\\n      &lt;th&gt;std&lt;/th&gt;\\n      &lt;td&gt;NaN&lt;/td&gt;\\n      &lt;td&gt;NaN&lt;/td&gt;\\n      &lt;td&gt;NaN&lt;/td&gt;\\n      &lt;td&gt;NaN&lt;/td&gt;\\n      &lt;td&gt;NaN&lt;/td&gt;\\n      &lt;td&gt;NaN&lt;/td&gt;\\n      &lt;td&gt;NaN&lt;/td&gt;\\n      &lt;td&gt;NaN&lt;/td&gt;\\n      &lt;td&gt;NaN&lt;/td&gt;\\n      &lt;td&gt;NaN&lt;/td&gt;\\n      &lt;td&gt;NaN&lt;/td&gt;\\n      &lt;td&gt;NaN&lt;/td&gt;\\n      &lt;td&gt;NaN&lt;/td&gt;\\n      &lt;td&gt;NaN&lt;/td&gt;\\n      &lt;td&gt;NaN&lt;/td&gt;\\n      &lt;td&gt;NaN&lt;/td&gt;\\n      &lt;td&gt;NaN&lt;/td&gt;\\n      &lt;td&gt;NaN&lt;/td&gt;\\n      &lt;td&gt;NaN&lt;/td&gt;\\n      &lt;td&gt;NaN&lt;/td&gt;\\n      &lt;td&gt;NaN&lt;/td&gt;\\n      &lt;td&gt;NaN&lt;/td&gt;\\n      &lt;td&gt;NaN&lt;/td&gt;\\n      &lt;td&gt;NaN&lt;/td&gt;\\n      &lt;td&gt;NaN&lt;/td&gt;\\n      &lt;td&gt;NaN&lt;/td&gt;\\n    &lt;/tr&gt;\\n    &lt;tr&gt;\\n      &lt;th&gt;min&lt;/th&gt;\\n      &lt;td&gt;19470.0&lt;/td&gt;\\n      &lt;td&gt;129172.0&lt;/td&gt;\\n      &lt;td&gt;129172.0&lt;/td&gt;\\n      &lt;td&gt;129172.0&lt;/td&gt;\\n      &lt;td&gt;129172.0&lt;/td&gt;\\n      &lt;td&gt;129172.0&lt;/td&gt;\\n      &lt;td&gt;129172.0&lt;/td&gt;\\n      &lt;td&gt;129172.0&lt;/td&gt;\\n      &lt;td&gt;129172.0&lt;/td&gt;\\n      &lt;td&gt;129172.0&lt;/td&gt;\\n      &lt;td&gt;129172.0&lt;/td&gt;\\n      &lt;td&gt;129172.0&lt;/td&gt;\\n      &lt;td&gt;129172.0&lt;/td&gt;\\n      &lt;td&gt;129162.0&lt;/td&gt;\\n      &lt;td&gt;129162.0&lt;/td&gt;\\n      &lt;td&gt;129172.0&lt;/td&gt;\\n      &lt;td&gt;129172.0&lt;/td&gt;\\n      &lt;td&gt;129172.0&lt;/td&gt;\\n      &lt;td&gt;99784.0&lt;/td&gt;\\n      &lt;td&gt;124466.0&lt;/td&gt;\\n      &lt;td&gt;124466.0&lt;/td&gt;\\n      &lt;td&gt;124466.0&lt;/td&gt;\\n      &lt;td&gt;124466.0&lt;/td&gt;\\n      &lt;td&gt;124466.0&lt;/td&gt;\\n      &lt;td&gt;124466.0&lt;/td&gt;\\n      &lt;td&gt;129172.0&lt;/td&gt;\\n    &lt;/tr&gt;\\n    &lt;tr&gt;\\n      &lt;th&gt;25%&lt;/th&gt;\\n      &lt;td&gt;19470.0&lt;/td&gt;\\n      &lt;td&gt;129172.0&lt;/td&gt;\\n      &lt;td&gt;129172.0&lt;/td&gt;\\n      &lt;td&gt;129172.0&lt;/td&gt;\\n      &lt;td&gt;129172.0&lt;/td&gt;\\n      &lt;td&gt;129172.0&lt;/td&gt;\\n      &lt;td&gt;129172.0&lt;/td&gt;\\n      &lt;td&gt;129172.0&lt;/td&gt;\\n      &lt;td&gt;129172.0&lt;/td&gt;\\n      &lt;td&gt;129172.0&lt;/td&gt;\\n      &lt;td&gt;129172.0&lt;/td&gt;\\n      &lt;td&gt;129172.0&lt;/td&gt;\\n      &lt;td&gt;129172.0&lt;/td&gt;\\n      &lt;td&gt;129162.0&lt;/td&gt;\\n      &lt;td&gt;129162.0&lt;/td&gt;\\n      &lt;td&gt;129172.0&lt;/td&gt;\\n      &lt;td&gt;129172.0&lt;/td&gt;\\n      &lt;td&gt;129172.0&lt;/td&gt;\\n      &lt;td&gt;99784.0&lt;/td&gt;\\n      &lt;td&gt;124466.0&lt;/td&gt;\\n      &lt;td&gt;124466.0&lt;/td&gt;\\n      &lt;td&gt;124466.0&lt;/td&gt;\\n      &lt;td&gt;124466.0&lt;/td&gt;\\n      &lt;td&gt;124466.0&lt;/td&gt;\\n      &lt;td&gt;124466.0&lt;/td&gt;\\n      &lt;td&gt;129172.0&lt;/td&gt;\\n    &lt;/tr&gt;\\n    &lt;tr&gt;\\n      &lt;th&gt;50%&lt;/th&gt;\\n      &lt;td&gt;19470.0&lt;/td&gt;\\n      &lt;td&gt;129172.0&lt;/td&gt;\\n      &lt;td&gt;129172.0&lt;/td&gt;\\n      &lt;td&gt;129172.0&lt;/td&gt;\\n      &lt;td&gt;129172.0&lt;/td&gt;\\n      &lt;td&gt;129172.0&lt;/td&gt;\\n      &lt;td&gt;129172.0&lt;/td&gt;\\n      &lt;td&gt;129172.0&lt;/td&gt;\\n      &lt;td&gt;129172.0&lt;/td&gt;\\n      &lt;td&gt;129172.0&lt;/td&gt;\\n      &lt;td&gt;129172.0&lt;/td&gt;\\n      &lt;td&gt;129172.0&lt;/td&gt;\\n      &lt;td&gt;129172.0&lt;/td&gt;\\n      &lt;td&gt;129162.0&lt;/td&gt;\\n      &lt;td&gt;129162.0&lt;/td&gt;\\n      &lt;td&gt;129172.0&lt;/td&gt;\\n      &lt;td&gt;129172.0&lt;/td&gt;\\n      &lt;td&gt;129172.0&lt;/td&gt;\\n      &lt;td&gt;99784.0&lt;/td&gt;\\n      &lt;td&gt;124466.0&lt;/td&gt;\\n      &lt;td&gt;124466.0&lt;/td&gt;\\n      &lt;td&gt;124466.0&lt;/td&gt;\\n      &lt;td&gt;124466.0&lt;/td&gt;\\n      &lt;td&gt;124466.0&lt;/td&gt;\\n      &lt;td&gt;124466.0&lt;/td&gt;\\n      &lt;td&gt;129172.0&lt;/td&gt;\\n    &lt;/tr&gt;\\n    &lt;tr&gt;\\n      &lt;th&gt;75%&lt;/th&gt;\\n      &lt;td&gt;19470.0&lt;/td&gt;\\n      &lt;td&gt;129172.0&lt;/td&gt;\\n      &lt;td&gt;129172.0&lt;/td&gt;\\n      &lt;td&gt;129172.0&lt;/td&gt;\\n      &lt;td&gt;129172.0&lt;/td&gt;\\n      &lt;td&gt;129172.0&lt;/td&gt;\\n      &lt;td&gt;129172.0&lt;/td&gt;\\n      &lt;td&gt;129172.0&lt;/td&gt;\\n      &lt;td&gt;129172.0&lt;/td&gt;\\n      &lt;td&gt;129172.0&lt;/td&gt;\\n      &lt;td&gt;129172.0&lt;/td&gt;\\n      &lt;td&gt;129172.0&lt;/td&gt;\\n      &lt;td&gt;129172.0&lt;/td&gt;\\n      &lt;td&gt;129162.0&lt;/td&gt;\\n      &lt;td&gt;129162.0&lt;/td&gt;\\n      &lt;td&gt;129172.0&lt;/td&gt;\\n      &lt;td&gt;129172.0&lt;/td&gt;\\n      &lt;td&gt;129172.0&lt;/td&gt;\\n      &lt;td&gt;99784.0&lt;/td&gt;\\n      &lt;td&gt;124466.0&lt;/td&gt;\\n      &lt;td&gt;124466.0&lt;/td&gt;\\n      &lt;td&gt;124466.0&lt;/td&gt;\\n      &lt;td&gt;124466.0&lt;/td&gt;\\n      &lt;td&gt;124466.0&lt;/td&gt;\\n      &lt;td&gt;124466.0&lt;/td&gt;\\n      &lt;td&gt;129172.0&lt;/td&gt;\\n    &lt;/tr&gt;\\n    &lt;tr&gt;\\n      &lt;th&gt;max&lt;/th&gt;\\n      &lt;td&gt;19470.0&lt;/td&gt;\\n      &lt;td&gt;129172.0&lt;/td&gt;\\n      &lt;td&gt;129172.0&lt;/td&gt;\\n      &lt;td&gt;129172.0&lt;/td&gt;\\n      &lt;td&gt;129172.0&lt;/td&gt;\\n      &lt;td&gt;129172.0&lt;/td&gt;\\n      &lt;td&gt;129172.0&lt;/td&gt;\\n      &lt;td&gt;129172.0&lt;/td&gt;\\n      &lt;td&gt;129172.0&lt;/td&gt;\\n      &lt;td&gt;129172.0&lt;/td&gt;\\n      &lt;td&gt;129172.0&lt;/td&gt;\\n      &lt;td&gt;129172.0&lt;/td&gt;\\n      &lt;td&gt;129172.0&lt;/td&gt;\\n      &lt;td&gt;129162.0&lt;/td&gt;\\n      &lt;td&gt;129162.0&lt;/td&gt;\\n      &lt;td&gt;129172.0&lt;/td&gt;\\n      &lt;td&gt;129172.0&lt;/td&gt;\\n      &lt;td&gt;129172.0&lt;/td&gt;\\n      &lt;td&gt;99784.0&lt;/td&gt;\\n      &lt;td&gt;124466.0&lt;/td&gt;\\n      &lt;td&gt;124466.0&lt;/td&gt;\\n      &lt;td&gt;124466.0&lt;/td&gt;\\n      &lt;td&gt;124466.0&lt;/td&gt;\\n      &lt;td&gt;124466.0&lt;/td&gt;\\n      &lt;td&gt;124466.0&lt;/td&gt;\\n      &lt;td&gt;129172.0&lt;/td&gt;\\n    &lt;/tr&gt;\\n  &lt;/tbody&gt;\\n&lt;/table&gt;\"},\"id\":\"1033\",\"type\":\"panel.models.markup.HTML\"},{\"attributes\":{\"children\":[{\"id\":\"1029\"},{\"id\":\"1031\"}],\"margin\":[0,0,0,0],\"name\":\"Row02596\"},\"id\":\"1028\",\"type\":\"Row\"},{\"attributes\":{\"children\":[{\"id\":\"1028\"},{\"id\":\"1032\"}],\"margin\":[0,0,0,0],\"name\":\"Column02597\"},\"id\":\"1027\",\"type\":\"Column\"},{\"attributes\":{\"children\":[{\"id\":\"1030\"}],\"margin\":[0,0,0,0],\"name\":\"Column02549\"},\"id\":\"1029\",\"type\":\"Column\"}],\"root_ids\":[\"1026\",\"1034\"]},\"title\":\"Bokeh Application\",\"version\":\"2.4.3\"}};\n",
       "    var render_items = [{\"docid\":\"9558ec6f-39fd-46ff-8e94-6982c3fcd530\",\"root_ids\":[\"1026\"],\"roots\":{\"1026\":\"f33988f0-8fd5-494a-a696-b17fb7ddcce0\"}}];\n",
       "    root.Bokeh.embed.embed_items_notebook(docs_json, render_items);\n",
       "  }\n",
       "  if (root.Bokeh !== undefined && root.Bokeh.Panel !== undefined && ( root['Tabulator'] !== undefined) && ( root['Tabulator'] !== undefined) && ( root['Tabulator'] !== undefined)) {\n",
       "    embed_document(root);\n",
       "  } else {\n",
       "    var attempts = 0;\n",
       "    var timer = setInterval(function(root) {\n",
       "      if (root.Bokeh !== undefined && root.Bokeh.Panel !== undefined && (root['Tabulator'] !== undefined) && (root['Tabulator'] !== undefined) && (root['Tabulator'] !== undefined)) {\n",
       "        clearInterval(timer);\n",
       "        embed_document(root);\n",
       "      } else if (document.readyState == \"complete\") {\n",
       "        attempts++;\n",
       "        if (attempts > 200) {\n",
       "          clearInterval(timer);\n",
       "          console.log(\"Bokeh: ERROR: Unable to run BokehJS code because BokehJS library is missing\");\n",
       "        }\n",
       "      }\n",
       "    }, 25, root)\n",
       "  }\n",
       "})(window);</script>"
      ],
      "text/plain": [
       "<hvplot.interactive.Interactive at 0x296ad3670>"
      ]
     },
     "execution_count": 45,
     "metadata": {
      "application/vnd.holoviews_exec.v0+json": {
       "id": "1026"
      }
     },
     "output_type": "execute_result"
    }
   ],
   "source": []
  },
  {
   "cell_type": "markdown",
   "id": "3359845b-ab79-421b-b61a-4c3ce000cd75",
   "metadata": {},
   "source": [
    "## Other Viz\n",
    "What percent of incidents are unfounded?\n",
    "Which categories have the most FPs?\n",
    "\n",
    "Does online reporting increase over time?\n",
    "The proportion of misdeamanor cases that are reported via coplogic\n",
    "find the categories by doing a filter x unique on \"filed online\" rows\n",
    "\n",
    "digital adoption: what % of minor incidents have an associated coplogic report over time\n",
    "what is the distribution of lifetimes for open/unresolved cases"
   ]
  },
  {
   "cell_type": "markdown",
   "id": "57f77a71-52a9-4225-82d2-203e76d87408",
   "metadata": {},
   "source": [
    "## Other Viz\n",
    "What percent of incidents are unfounded?\n",
    "Which categories have the most FPs?\n",
    "\n",
    "Does online reporting increase over time?\n",
    "The proportion of misdeamanor cases that are reported via coplogic\n",
    "find the categories by doing a filter x unique on \"filed online\" rows\n",
    "\n",
    "digital adoption: what % of minor incidents have an associated coplogic report over time\n",
    "what is the distribution of lifetimes for open/unresolved cases"
   ]
  },
  {
   "cell_type": "code",
   "execution_count": 28,
   "id": "50e34cb9-6562-423a-b696-c87fe97d1974",
   "metadata": {},
   "outputs": [
    {
     "data": {
      "text/plain": [
       "dtype('O')"
      ]
     },
     "execution_count": 28,
     "metadata": {},
     "output_type": "execute_result"
    }
   ],
   "source": [
    "df['is_minor'].dtypes\n"
   ]
  },
  {
   "cell_type": "code",
   "execution_count": null,
   "id": "911897ff-aa36-4db3-9e64-86a49ec11bd3",
   "metadata": {},
   "outputs": [],
   "source": []
  }
 ],
 "metadata": {
  "kernelspec": {
   "display_name": "Python 3 (ipykernel)",
   "language": "python",
   "name": "python3"
  },
  "language_info": {
   "codemirror_mode": {
    "name": "ipython",
    "version": 3
   },
   "file_extension": ".py",
   "mimetype": "text/x-python",
   "name": "python",
   "nbconvert_exporter": "python",
   "pygments_lexer": "ipython3",
   "version": "3.10.6"
  }
 },
 "nbformat": 4,
 "nbformat_minor": 5
}
